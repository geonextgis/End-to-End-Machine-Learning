{
 "cells": [
  {
   "cell_type": "markdown",
   "id": "c9393b69-e20c-4b89-a127-78f4f4ff3130",
   "metadata": {},
   "source": [
    "# **Machine Learning with Pipeline - 2**"
   ]
  },
  {
   "cell_type": "markdown",
   "id": "eb44ef97-5ec5-44bc-83e4-232c6b32f578",
   "metadata": {},
   "source": [
    "## **Import Required Libraries**"
   ]
  },
  {
   "cell_type": "code",
   "execution_count": 1,
   "id": "448ba5c7-0640-4cde-8003-25d99de43269",
   "metadata": {
    "tags": []
   },
   "outputs": [],
   "source": [
    "import pickle\n",
    "import numpy as np\n",
    "import warnings\n",
    "warnings.filterwarnings(\"ignore\")"
   ]
  },
  {
   "cell_type": "markdown",
   "id": "6c3a0590-2533-467e-b036-1ccd50a71e1d",
   "metadata": {},
   "source": [
    "## **Load the Model** "
   ]
  },
  {
   "cell_type": "code",
   "execution_count": 2,
   "id": "01962821-98e5-44b0-baeb-48102648627a",
   "metadata": {
    "tags": []
   },
   "outputs": [],
   "source": [
    "pipe = pickle.load(open(\"D:\\Coding\\Models\\pipe.pkl\", \"rb\"))"
   ]
  },
  {
   "cell_type": "markdown",
   "id": "604c96a1-4793-4ab6-a4ad-690c0b481ff5",
   "metadata": {},
   "source": [
    "## **Take User Input**"
   ]
  },
  {
   "cell_type": "code",
   "execution_count": 3,
   "id": "7954de7a-0762-442d-9183-fd0ec5d14283",
   "metadata": {
    "tags": []
   },
   "outputs": [],
   "source": [
    "# Assume user input\n",
    "test_input = np.array([2, \"male\", 22.0, 1, 0, 25.0, \"S\"], dtype=\"object\").reshape(1, 7)"
   ]
  },
  {
   "cell_type": "markdown",
   "id": "75beb23a-ed47-418c-92af-68d9d27b5d3b",
   "metadata": {},
   "source": [
    "## **Predict the Input Data with the Model**"
   ]
  },
  {
   "cell_type": "code",
   "execution_count": 4,
   "id": "1bc16dfc-649c-47ee-a28e-fdc1ebe62dd7",
   "metadata": {
    "tags": []
   },
   "outputs": [
    {
     "data": {
      "text/plain": [
       "array([0], dtype=int64)"
      ]
     },
     "execution_count": 4,
     "metadata": {},
     "output_type": "execute_result"
    }
   ],
   "source": [
    "pipe.predict(test_input)"
   ]
  }
 ],
 "metadata": {
  "kernelspec": {
   "display_name": "Python 3 (ipykernel)",
   "language": "python",
   "name": "python3"
  },
  "language_info": {
   "codemirror_mode": {
    "name": "ipython",
    "version": 3
   },
   "file_extension": ".py",
   "mimetype": "text/x-python",
   "name": "python",
   "nbconvert_exporter": "python",
   "pygments_lexer": "ipython3",
   "version": "3.11.4"
  }
 },
 "nbformat": 4,
 "nbformat_minor": 5
}
