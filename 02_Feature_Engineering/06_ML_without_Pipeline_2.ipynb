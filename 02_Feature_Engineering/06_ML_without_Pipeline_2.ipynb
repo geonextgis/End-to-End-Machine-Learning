{
 "cells": [
  {
   "cell_type": "markdown",
   "id": "3c7d8ac8-1799-4834-91ae-d6740d06ac14",
   "metadata": {},
   "source": [
    "# **Machine Learning without Pipeline - 2**"
   ]
  },
  {
   "cell_type": "markdown",
   "id": "4db6899a-abcf-4139-aee0-eede18899092",
   "metadata": {},
   "source": [
    "## **Import Required Libraries**"
   ]
  },
  {
   "cell_type": "code",
   "execution_count": 1,
   "id": "7549c950-47b7-4a8d-9ddb-a0642b061673",
   "metadata": {
    "tags": []
   },
   "outputs": [],
   "source": [
    "import pickle\n",
    "import numpy as np\n",
    "import warnings\n",
    "warnings.filterwarnings(\"ignore\")"
   ]
  },
  {
   "cell_type": "markdown",
   "id": "2d57c8ce-2c67-40aa-86de-dace7209d3ee",
   "metadata": {},
   "source": [
    "## **Load the Model and Encoders**"
   ]
  },
  {
   "cell_type": "code",
   "execution_count": 2,
   "id": "b9e886f2-ecba-408c-800a-c29e43e0c7f7",
   "metadata": {
    "tags": []
   },
   "outputs": [],
   "source": [
    "# Load the model and the encoders\n",
    "ohe_sex = pickle.load(open(\"D:\\Coding\\Models\\ohe_sex.pkl\", \"rb\"))\n",
    "ohe_embarked = pickle.load(open(\"D:\\Coding\\Models\\ohe_embarked.pkl\", \"rb\"))\n",
    "clf = pickle.load(open(\"D:\\Coding\\Models\\decision_tree_model.pkl\", \"rb\"))"
   ]
  },
  {
   "cell_type": "markdown",
   "id": "c3997afa-40b5-4cb1-ae73-57a59aa29f11",
   "metadata": {},
   "source": [
    "## **Take User Input**"
   ]
  },
  {
   "cell_type": "code",
   "execution_count": 3,
   "id": "8ac89454-7c8d-4746-b4f0-f1e1b289804f",
   "metadata": {
    "tags": []
   },
   "outputs": [],
   "source": [
    "# Assume user input\n",
    "# Pclass / Sex / Age / SibSp / Parch / Fare / Embarked\n",
    "test_input = np.array([2, \"male\", 22.0, 1, 0, 25.0, \"S\"], dtype=object).reshape(1, 7)"
   ]
  },
  {
   "cell_type": "code",
   "execution_count": 4,
   "id": "ac51bd1e-e591-48d2-b999-5898483dce1d",
   "metadata": {
    "tags": []
   },
   "outputs": [
    {
     "data": {
      "text/plain": [
       "array([[2, 'male', 22.0, 1, 0, 25.0, 'S']], dtype=object)"
      ]
     },
     "execution_count": 4,
     "metadata": {},
     "output_type": "execute_result"
    }
   ],
   "source": [
    "test_input"
   ]
  },
  {
   "cell_type": "markdown",
   "id": "9dbb2658-d8a0-4c2b-bb3d-59de1fd08578",
   "metadata": {},
   "source": [
    "## **Transform the Input using Encoders**"
   ]
  },
  {
   "cell_type": "code",
   "execution_count": 5,
   "id": "f8cec4e1-673e-4c5b-8ce6-31eafead709e",
   "metadata": {
    "tags": []
   },
   "outputs": [
    {
     "data": {
      "text/plain": [
       "array([[0., 1.]])"
      ]
     },
     "execution_count": 5,
     "metadata": {},
     "output_type": "execute_result"
    }
   ],
   "source": [
    " # Encode the 'Sex'\n",
    "test_input_sex = ohe_sex.transform(test_input[:, 1].reshape(1, 1))\n",
    "test_input_sex"
   ]
  },
  {
   "cell_type": "code",
   "execution_count": 6,
   "id": "20c68170-13c0-4a28-854d-4884bd58ec1d",
   "metadata": {
    "tags": []
   },
   "outputs": [
    {
     "data": {
      "text/plain": [
       "array([[0., 0., 1.]])"
      ]
     },
     "execution_count": 6,
     "metadata": {},
     "output_type": "execute_result"
    }
   ],
   "source": [
    "# Encode the 'Embarked'\n",
    "test_input_embarked = ohe_embarked.transform(test_input[:, -1].reshape(1, 1))\n",
    "test_input_embarked"
   ]
  },
  {
   "cell_type": "code",
   "execution_count": 7,
   "id": "5d272d61-7c82-4fe6-bc48-6e281d25eb51",
   "metadata": {
    "tags": []
   },
   "outputs": [
    {
     "data": {
      "text/plain": [
       "array([[22.0]], dtype=object)"
      ]
     },
     "execution_count": 7,
     "metadata": {},
     "output_type": "execute_result"
    }
   ],
   "source": [
    "# Extract the 'Age'\n",
    "test_input_age = test_input[:, 2].reshape(1, 1)\n",
    "test_input_age"
   ]
  },
  {
   "cell_type": "code",
   "execution_count": 8,
   "id": "7a33d4bc-5f4e-43f2-af87-5a34ec03d3f0",
   "metadata": {
    "tags": []
   },
   "outputs": [
    {
     "data": {
      "text/plain": [
       "array([[2, 1, 0, 25.0]], dtype=object)"
      ]
     },
     "execution_count": 8,
     "metadata": {},
     "output_type": "execute_result"
    }
   ],
   "source": [
    "# Extract the remaining columns from test_input data\n",
    "test_input_rem = test_input[:, [0, 3, 4, 5]]\n",
    "test_input_rem"
   ]
  },
  {
   "cell_type": "code",
   "execution_count": 9,
   "id": "01bf9f6d-425c-4f1e-bf32-89be8a1baa38",
   "metadata": {
    "tags": []
   },
   "outputs": [
    {
     "data": {
      "text/plain": [
       "array([[2, 1, 0, 25.0, 22.0, 0.0, 1.0, 0.0, 0.0, 1.0]], dtype=object)"
      ]
     },
     "execution_count": 9,
     "metadata": {},
     "output_type": "execute_result"
    }
   ],
   "source": [
    "# Merge the encoded data with the test input data\n",
    "test_input_merged = np.concatenate((test_input_rem, test_input_age, test_input_sex, test_input_embarked), axis=1)\n",
    "test_input_merged"
   ]
  },
  {
   "cell_type": "code",
   "execution_count": 10,
   "id": "de9765eb-783d-4c6b-8b68-a2106f363a50",
   "metadata": {
    "tags": []
   },
   "outputs": [
    {
     "data": {
      "text/plain": [
       "(1, 10)"
      ]
     },
     "execution_count": 10,
     "metadata": {},
     "output_type": "execute_result"
    }
   ],
   "source": [
    "test_input_merged.shape"
   ]
  },
  {
   "cell_type": "markdown",
   "id": "0027e61f-a60f-4e81-bb3b-970aa5f34bd8",
   "metadata": {},
   "source": [
    "## **Predict the Input Data with the Model**"
   ]
  },
  {
   "cell_type": "code",
   "execution_count": 11,
   "id": "227bd7d3-bf61-4581-9714-ecdd8baaca45",
   "metadata": {
    "tags": []
   },
   "outputs": [
    {
     "data": {
      "text/plain": [
       "array([0], dtype=int64)"
      ]
     },
     "execution_count": 11,
     "metadata": {},
     "output_type": "execute_result"
    }
   ],
   "source": [
    "predict = clf.predict(test_input_merged)\n",
    "predict"
   ]
  }
 ],
 "metadata": {
  "kernelspec": {
   "display_name": "Python 3 (ipykernel)",
   "language": "python",
   "name": "python3"
  },
  "language_info": {
   "codemirror_mode": {
    "name": "ipython",
    "version": 3
   },
   "file_extension": ".py",
   "mimetype": "text/x-python",
   "name": "python",
   "nbconvert_exporter": "python",
   "pygments_lexer": "ipython3",
   "version": "3.11.4"
  }
 },
 "nbformat": 4,
 "nbformat_minor": 5
}
