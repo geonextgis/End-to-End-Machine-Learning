{
 "cells": [
  {
   "cell_type": "markdown",
   "id": "4088e753-e071-43b6-a930-494a143c2bf3",
   "metadata": {},
   "source": [
    "# **Working with JSON/SQL**"
   ]
  },
  {
   "cell_type": "markdown",
   "id": "576a0b04-5d85-4192-9935-e697399dd9f0",
   "metadata": {},
   "source": [
    "## **Import Required Libraries**"
   ]
  },
  {
   "cell_type": "code",
   "execution_count": 1,
   "id": "e5133111-3461-45e0-8a2f-459a9b01945d",
   "metadata": {
    "tags": []
   },
   "outputs": [],
   "source": [
    "import pandas as pd"
   ]
  },
  {
   "cell_type": "markdown",
   "id": "561fee25-04e2-449a-9b3f-d988060a82c1",
   "metadata": {},
   "source": [
    "## **Working with JSON**\n",
    "JSON (JavaScript Object Notation) is a lightweight data interchange format that is easy for humans to read and write, and easy for machines to parse and generate. It is commonly used for transmitting data between a server and a web application, as well as for configuration files, APIs, and various other purposes.\n",
    "\n",
    "JSON is designed to be a language-independent data format, meaning it can be used with any programming language that has the capability to parse and generate JSON data. It is often used in web development for sending and receiving structured data, as it's more concise and easier to work with than XML.\n",
    "\n",
    "JSON data is represented as a collection of key-value pairs, where each key is a string and each value can be a string, number, boolean, object, array, or null. JSON objects are enclosed in curly braces {}, and each key-value pair is separated by a colon. JSON arrays are ordered lists of values and are enclosed in square brackets []."
   ]
  },
  {
   "cell_type": "markdown",
   "id": "ebea4fa6-c1e6-4ce8-b32b-4cd01e88c24d",
   "metadata": {
    "tags": []
   },
   "source": [
    "**Example:**\n",
    "\n",
    "```JSON\n",
    "{\n",
    "  \"name\": \"John Doe\",\n",
    "  \"age\": 30,\n",
    "  \"isStudent\": false,\n",
    "  \"hobbies\": [\"reading\", \"swimming\", \"gardening\"]\n",
    "}\n",
    "\n",
    "```"
   ]
  },
  {
   "cell_type": "markdown",
   "id": "992cf5ed-bb7a-4282-baef-bebdf7f387b1",
   "metadata": {},
   "source": [
    "### **Read a Local JSON File**"
   ]
  },
  {
   "cell_type": "code",
   "execution_count": 2,
   "id": "b0183a46-446a-4a57-8934-c82308cfba74",
   "metadata": {
    "tags": []
   },
   "outputs": [
    {
     "data": {
      "text/html": [
       "<div>\n",
       "<style scoped>\n",
       "    .dataframe tbody tr th:only-of-type {\n",
       "        vertical-align: middle;\n",
       "    }\n",
       "\n",
       "    .dataframe tbody tr th {\n",
       "        vertical-align: top;\n",
       "    }\n",
       "\n",
       "    .dataframe thead th {\n",
       "        text-align: right;\n",
       "    }\n",
       "</style>\n",
       "<table border=\"1\" class=\"dataframe\">\n",
       "  <thead>\n",
       "    <tr style=\"text-align: right;\">\n",
       "      <th></th>\n",
       "      <th>id</th>\n",
       "      <th>cuisine</th>\n",
       "      <th>ingredients</th>\n",
       "    </tr>\n",
       "  </thead>\n",
       "  <tbody>\n",
       "    <tr>\n",
       "      <th>0</th>\n",
       "      <td>10259</td>\n",
       "      <td>greek</td>\n",
       "      <td>[romaine lettuce, black olives, grape tomatoes...</td>\n",
       "    </tr>\n",
       "    <tr>\n",
       "      <th>1</th>\n",
       "      <td>25693</td>\n",
       "      <td>southern_us</td>\n",
       "      <td>[plain flour, ground pepper, salt, tomatoes, g...</td>\n",
       "    </tr>\n",
       "    <tr>\n",
       "      <th>2</th>\n",
       "      <td>20130</td>\n",
       "      <td>filipino</td>\n",
       "      <td>[eggs, pepper, salt, mayonaise, cooking oil, g...</td>\n",
       "    </tr>\n",
       "    <tr>\n",
       "      <th>3</th>\n",
       "      <td>22213</td>\n",
       "      <td>indian</td>\n",
       "      <td>[water, vegetable oil, wheat, salt]</td>\n",
       "    </tr>\n",
       "    <tr>\n",
       "      <th>4</th>\n",
       "      <td>13162</td>\n",
       "      <td>indian</td>\n",
       "      <td>[black pepper, shallots, cornflour, cayenne pe...</td>\n",
       "    </tr>\n",
       "    <tr>\n",
       "      <th>...</th>\n",
       "      <td>...</td>\n",
       "      <td>...</td>\n",
       "      <td>...</td>\n",
       "    </tr>\n",
       "    <tr>\n",
       "      <th>39769</th>\n",
       "      <td>29109</td>\n",
       "      <td>irish</td>\n",
       "      <td>[light brown sugar, granulated sugar, butter, ...</td>\n",
       "    </tr>\n",
       "    <tr>\n",
       "      <th>39770</th>\n",
       "      <td>11462</td>\n",
       "      <td>italian</td>\n",
       "      <td>[KRAFT Zesty Italian Dressing, purple onion, b...</td>\n",
       "    </tr>\n",
       "    <tr>\n",
       "      <th>39771</th>\n",
       "      <td>2238</td>\n",
       "      <td>irish</td>\n",
       "      <td>[eggs, citrus fruit, raisins, sourdough starte...</td>\n",
       "    </tr>\n",
       "    <tr>\n",
       "      <th>39772</th>\n",
       "      <td>41882</td>\n",
       "      <td>chinese</td>\n",
       "      <td>[boneless chicken skinless thigh, minced garli...</td>\n",
       "    </tr>\n",
       "    <tr>\n",
       "      <th>39773</th>\n",
       "      <td>2362</td>\n",
       "      <td>mexican</td>\n",
       "      <td>[green chile, jalapeno chilies, onions, ground...</td>\n",
       "    </tr>\n",
       "  </tbody>\n",
       "</table>\n",
       "<p>39774 rows × 3 columns</p>\n",
       "</div>"
      ],
      "text/plain": [
       "          id      cuisine                                        ingredients\n",
       "0      10259        greek  [romaine lettuce, black olives, grape tomatoes...\n",
       "1      25693  southern_us  [plain flour, ground pepper, salt, tomatoes, g...\n",
       "2      20130     filipino  [eggs, pepper, salt, mayonaise, cooking oil, g...\n",
       "3      22213       indian                [water, vegetable oil, wheat, salt]\n",
       "4      13162       indian  [black pepper, shallots, cornflour, cayenne pe...\n",
       "...      ...          ...                                                ...\n",
       "39769  29109        irish  [light brown sugar, granulated sugar, butter, ...\n",
       "39770  11462      italian  [KRAFT Zesty Italian Dressing, purple onion, b...\n",
       "39771   2238        irish  [eggs, citrus fruit, raisins, sourdough starte...\n",
       "39772  41882      chinese  [boneless chicken skinless thigh, minced garli...\n",
       "39773   2362      mexican  [green chile, jalapeno chilies, onions, ground...\n",
       "\n",
       "[39774 rows x 3 columns]"
      ]
     },
     "execution_count": 2,
     "metadata": {},
     "output_type": "execute_result"
    }
   ],
   "source": [
    "json_path = r\"D:\\Coding\\Datasets\\train.json\"\n",
    "pd.read_json(json_path)"
   ]
  },
  {
   "cell_type": "markdown",
   "id": "75049a12-f285-440d-b141-26e86a94b0da",
   "metadata": {},
   "source": [
    "### **Read a JSON File from URL**"
   ]
  },
  {
   "cell_type": "code",
   "execution_count": 6,
   "id": "a5576b4f-42f9-4425-8bae-b9345d604478",
   "metadata": {
    "tags": []
   },
   "outputs": [
    {
     "data": {
      "text/html": [
       "<div>\n",
       "<style scoped>\n",
       "    .dataframe tbody tr th:only-of-type {\n",
       "        vertical-align: middle;\n",
       "    }\n",
       "\n",
       "    .dataframe tbody tr th {\n",
       "        vertical-align: top;\n",
       "    }\n",
       "\n",
       "    .dataframe thead th {\n",
       "        text-align: right;\n",
       "    }\n",
       "</style>\n",
       "<table border=\"1\" class=\"dataframe\">\n",
       "  <thead>\n",
       "    <tr style=\"text-align: right;\">\n",
       "      <th></th>\n",
       "      <th>name</th>\n",
       "      <th>species</th>\n",
       "      <th>foods</th>\n",
       "    </tr>\n",
       "  </thead>\n",
       "  <tbody>\n",
       "    <tr>\n",
       "      <th>0</th>\n",
       "      <td>Meowsy</td>\n",
       "      <td>cat</td>\n",
       "      <td>{'likes': ['tuna', 'catnip'], 'dislikes': ['ha...</td>\n",
       "    </tr>\n",
       "    <tr>\n",
       "      <th>1</th>\n",
       "      <td>Barky</td>\n",
       "      <td>dog</td>\n",
       "      <td>{'likes': ['bones', 'carrots'], 'dislikes': ['...</td>\n",
       "    </tr>\n",
       "    <tr>\n",
       "      <th>2</th>\n",
       "      <td>Purrpaws</td>\n",
       "      <td>cat</td>\n",
       "      <td>{'likes': ['mice'], 'dislikes': ['cookies']}</td>\n",
       "    </tr>\n",
       "  </tbody>\n",
       "</table>\n",
       "</div>"
      ],
      "text/plain": [
       "       name species                                              foods\n",
       "0    Meowsy     cat  {'likes': ['tuna', 'catnip'], 'dislikes': ['ha...\n",
       "1     Barky     dog  {'likes': ['bones', 'carrots'], 'dislikes': ['...\n",
       "2  Purrpaws     cat       {'likes': ['mice'], 'dislikes': ['cookies']}"
      ]
     },
     "execution_count": 6,
     "metadata": {},
     "output_type": "execute_result"
    }
   ],
   "source": [
    "json_url = r\"https://raw.githubusercontent.com/LearnWebCode/json-example/master/animals-1.json\"\n",
    "pd.read_json(json_url)"
   ]
  },
  {
   "cell_type": "markdown",
   "id": "ea80b1fe-183c-468e-83cc-b5ad48b6d5e2",
   "metadata": {},
   "source": [
    "## **Working with SQL**"
   ]
  }
 ],
 "metadata": {
  "kernelspec": {
   "display_name": "Python 3 (ipykernel)",
   "language": "python",
   "name": "python3"
  },
  "language_info": {
   "codemirror_mode": {
    "name": "ipython",
    "version": 3
   },
   "file_extension": ".py",
   "mimetype": "text/x-python",
   "name": "python",
   "nbconvert_exporter": "python",
   "pygments_lexer": "ipython3",
   "version": "3.11.4"
  }
 },
 "nbformat": 4,
 "nbformat_minor": 5
}
