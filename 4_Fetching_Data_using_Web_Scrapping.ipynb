{
 "cells": [
  {
   "cell_type": "markdown",
   "id": "652eb566-5867-48fe-9019-65f232892c3e",
   "metadata": {},
   "source": [
    "# **Fetching Data using Web Scrapping**\n",
    "Web scraping is the process of automatically extracting information and data from websites. It involves writing code to retrieve specific pieces of content, such as text, images, tables, or other structured data, from web pages. Web scraping is commonly used to gather data for various purposes, such as research, analysis, data mining, automation, and more.\n",
    "\n",
    "Web scraping can range from simple tasks, like retrieving the title of an article from a news website, to more complex tasks, like extracting financial data from multiple web pages for analysis. However, it's important to note that while web scraping can be a powerful tool, it should be used ethically and responsibly. Some websites have terms of use that prohibit or restrict scraping, and improperly scraping data or overloading a website's server with requests can have legal and ethical implications."
   ]
  },
  {
   "cell_type": "markdown",
   "id": "2286d4f4-f972-4600-ab9e-3e6f3f23eeb6",
   "metadata": {},
   "source": [
    "## **Import Required Libraries**"
   ]
  },
  {
   "cell_type": "code",
   "execution_count": 1,
   "id": "2b2dbb22-8d82-47da-8a0d-cbfcb07a044d",
   "metadata": {
    "tags": []
   },
   "outputs": [],
   "source": [
    "import pandas as pd\n",
    "import requests\n",
    "from bs4 import BeautifulSoup"
   ]
  },
  {
   "cell_type": "markdown",
   "id": "acf5d917-ae59-4ad9-9114-02bd92e7ed4b",
   "metadata": {},
   "source": [
    "## **Fetch Webpage from the Server**"
   ]
  },
  {
   "cell_type": "code",
   "execution_count": 2,
   "id": "3da874fc-1b84-4224-a841-f714834f95bf",
   "metadata": {
    "tags": []
   },
   "outputs": [],
   "source": [
    "web_url = r\"https://www.ambitionbox.com/list-of-companies?page=2\"\n",
    "headers = {\"User-Agent\": \"Mozilla/5.0 (Windows NT 6.3; Win64; x64) AppleWebKit/537.36 (KHTML, like Gecko) Chrome/80.0.3987.162 Safari/537.36\"}\n",
    "webpage = requests.get(web_url, headers=headers).text"
   ]
  },
  {
   "cell_type": "code",
   "execution_count": 3,
   "id": "4b6a74e4-d4f9-42cc-92a7-67d69d2cde53",
   "metadata": {
    "tags": []
   },
   "outputs": [],
   "source": [
    "# Creating an object of the webpage using BeautifulSoup Class\n",
    "soup = BeautifulSoup(webpage, \"lxml\")"
   ]
  },
  {
   "cell_type": "markdown",
   "id": "d687b77a-69a5-412e-8a39-1d4766c6e961",
   "metadata": {},
   "source": [
    "## **Extract Companies Name from the URL**"
   ]
  },
  {
   "cell_type": "code",
   "execution_count": 4,
   "id": "6717c35e-ceb8-4a2c-9fb7-124b9f6e2a4e",
   "metadata": {
    "tags": []
   },
   "outputs": [],
   "source": [
    "# Create an empty list of companies\n",
    "companies = []\n",
    "for i in range(0, 20):\n",
    "    company = soup.find_all(\"h2\")[i].text.strip()\n",
    "    companies.append(company)"
   ]
  },
  {
   "cell_type": "code",
   "execution_count": 5,
   "id": "4d5c8dca-b619-462b-8f6d-b49a8efd240a",
   "metadata": {
    "tags": []
   },
   "outputs": [
    {
     "data": {
      "text/plain": [
       "['Vodafone Idea',\n",
       " 'Deloitte',\n",
       " 'Kotak Mahindra Bank',\n",
       " \"BYJU'S\",\n",
       " 'Reliance Industries',\n",
       " 'Bharti Airtel',\n",
       " 'Tata Motors',\n",
       " 'Flipkart',\n",
       " 'Ernst & Young',\n",
       " 'WNS',\n",
       " 'Mahindra & Mahindra',\n",
       " 'IndusInd Bank',\n",
       " 'DXC Technology',\n",
       " 'Infosys BPM',\n",
       " 'IDFC FIRST Bank',\n",
       " 'Maruti Suzuki',\n",
       " 'Conneqt Business Solutions',\n",
       " 'iEnergizer',\n",
       " 'Bajaj Finserv',\n",
       " 'Hinduja Global Solutions']"
      ]
     },
     "execution_count": 5,
     "metadata": {},
     "output_type": "execute_result"
    }
   ],
   "source": [
    "# Print all the companies name\n",
    "companies"
   ]
  },
  {
   "cell_type": "code",
   "execution_count": 6,
   "id": "86dda0cf-2f24-4334-b3f9-fd75e6d2665d",
   "metadata": {
    "tags": []
   },
   "outputs": [
    {
     "data": {
      "text/plain": [
       "20"
      ]
     },
     "execution_count": 6,
     "metadata": {},
     "output_type": "execute_result"
    }
   ],
   "source": [
    "# Print the length of companies\n",
    "len(companies)"
   ]
  },
  {
   "cell_type": "markdown",
   "id": "8c8be043-003d-41cd-8e53-8069a3137ac3",
   "metadata": {},
   "source": [
    "## **Extract Rating of All Companies**"
   ]
  },
  {
   "cell_type": "code",
   "execution_count": 7,
   "id": "10e10eab-a7ee-4214-b269-20b133d58dc4",
   "metadata": {
    "tags": []
   },
   "outputs": [],
   "source": [
    "# Create an empty list of ratings\n",
    "ratings = []\n",
    "for i in range(0, 20):\n",
    "    rating = soup.find_all(\"span\", class_=\"companyCardWrapper__companyRatingValue\")[i].text.strip()\n",
    "    ratings.append(rating)"
   ]
  },
  {
   "cell_type": "code",
   "execution_count": 8,
   "id": "dabb55e2-fe76-4f78-85ec-85c2c85c0c26",
   "metadata": {
    "tags": []
   },
   "outputs": [
    {
     "data": {
      "text/plain": [
       "['4.2',\n",
       " '4.0',\n",
       " '3.8',\n",
       " '3.2',\n",
       " '4.0',\n",
       " '4.0',\n",
       " '4.2',\n",
       " '4.1',\n",
       " '3.7',\n",
       " '3.6',\n",
       " '4.1',\n",
       " '3.7',\n",
       " '3.9',\n",
       " '3.9',\n",
       " '4.0',\n",
       " '4.2',\n",
       " '3.8',\n",
       " '4.3',\n",
       " '4.0',\n",
       " '4.0']"
      ]
     },
     "execution_count": 8,
     "metadata": {},
     "output_type": "execute_result"
    }
   ],
   "source": [
    "# Print all the ratings\n",
    "ratings"
   ]
  },
  {
   "cell_type": "code",
   "execution_count": 9,
   "id": "c23f58c5-ac25-48f6-9063-1fc40421c3c8",
   "metadata": {
    "tags": []
   },
   "outputs": [
    {
     "data": {
      "text/plain": [
       "20"
      ]
     },
     "execution_count": 9,
     "metadata": {},
     "output_type": "execute_result"
    }
   ],
   "source": [
    "# Print the length of ratings\n",
    "len(ratings)"
   ]
  },
  {
   "cell_type": "markdown",
   "id": "7af2a27e-2b81-48c0-a25f-617044a79f83",
   "metadata": {},
   "source": [
    "## **Extract Content of All Companies**"
   ]
  },
  {
   "cell_type": "code",
   "execution_count": 10,
   "id": "5862e9f6-7686-43d6-a574-84a1a9a41f5b",
   "metadata": {
    "tags": []
   },
   "outputs": [],
   "source": [
    "# Create a list of contents\n",
    "contents = []\n",
    "for i in range(0, 20):\n",
    "    content = soup.find_all(\"span\", class_=\"companyCardWrapper__interLinking\")[i].text.strip()\n",
    "    contents.append(content)"
   ]
  },
  {
   "cell_type": "code",
   "execution_count": 11,
   "id": "26125b47-c604-47af-b7f0-3d12f12a4877",
   "metadata": {
    "tags": []
   },
   "outputs": [
    {
     "name": "stdout",
     "output_type": "stream",
     "text": [
      "['Telecom | 10k-50k Employees | Public | 5 years old | Gandhinagar +600 more', 'Management Consulting | 1 Lakh+ Employees | 178 years old | London +143 more', 'Banking | 10k-50k Employees | Public | 20 years old | Mumbai +506 more', 'EdTech | 1k-5k Employees | Indian Unicorn | 12 years old | Bangalore +285 more', 'Oil & Gas | Public | 46 years old | Navi Mumbai +578 more', 'Telecom | 10k-50k Employees | Public | 28 years old | Gurgaon/Gurugram +589 more', 'Automobile | 10k-50k Employees | Public | 78 years old | Pune +417 more', 'Internet | 10k-50k Employees | Public | 16 years old | Bangalore +491 more', 'Accounting & Auditing | 10k-50k Employees | 21 years old | London +85 more', 'BPO | 10k-50k Employees | 27 years old | Mumbai +30 more', 'Automobile | 1 Lakh+ Employees | Public | 78 years old | Mumbai +447 more', 'Banking | 10k-50k Employees | Public | 29 years old | Gurgaon/Gurugram +625 more', 'IT Services & Consulting | 10k-50k Employees | Public | 6 years old | Minato +57 more', 'BPO | 10k-50k Employees | 21 years old | Bangalore/Bengaluru +53 more', 'Banking | 10k-50k Employees | Public | 5 years old | Mumbai +494 more', 'Automobile | 10k-50k Employees | Public | 40 years old | New Delhi +392 more', 'Analytics & KPO | 10k-50k Employees | 21 years old | Mumbai +185 more', 'BPO | 10k-50k Employees | 23 years old | Noida +19 more', 'Insurance | 10k-50k Employees | Public | 16 years old | Pune +778 more', 'Software Product | 10k-50k Employees | Public | 23 years old | Bangalore/Bengaluru +85 more']\n"
     ]
    }
   ],
   "source": [
    "# Print all the content\n",
    "print(contents)"
   ]
  },
  {
   "cell_type": "code",
   "execution_count": 12,
   "id": "96b23914-9c4f-4d38-8b73-1d1b1cf94473",
   "metadata": {
    "tags": []
   },
   "outputs": [
    {
     "data": {
      "text/plain": [
       "20"
      ]
     },
     "execution_count": 12,
     "metadata": {},
     "output_type": "execute_result"
    }
   ],
   "source": [
    "# Print the length of contents\n",
    "len(contents)"
   ]
  },
  {
   "cell_type": "markdown",
   "id": "3613d249-cdd2-4497-8592-d921c4b7baf2",
   "metadata": {},
   "source": [
    "## **Write a Function to Automate the Workflow**"
   ]
  },
  {
   "cell_type": "code",
   "execution_count": 30,
   "id": "ec8698ba-57a1-499e-9b77-2d40cf5776bf",
   "metadata": {
    "tags": []
   },
   "outputs": [],
   "source": [
    "# Creating a function to fetch the data for each page\n",
    "def fetchData(soup):\n",
    "\n",
    "    companies = soup.find_all(\"div\", class_=\"companyCardWrapper__companyDetails\")\n",
    "\n",
    "    # Extracting the data of the companies\n",
    "    companyNames = []\n",
    "    ratings = []\n",
    "    contents = []\n",
    "    industries = []\n",
    "    employees = []\n",
    "    ctypes = []\n",
    "    age = []\n",
    "    hq = []\n",
    "\n",
    "    for i in range(0, 20):\n",
    "        company = companies[i]\n",
    "\n",
    "        # Getting the name of the company\n",
    "        company_name = company.find(\"h2\", class_=\"companyCardWrapper__companyName\").text.strip()\n",
    "        companyNames.append(company_name)\n",
    "\n",
    "        # Extracting the ratings\n",
    "        rating = company.find(\"span\", class_=\"companyCardWrapper__companyRatingValue\").text.strip()\n",
    "        ratings.append(rating)\n",
    "\n",
    "        # Extracting the contents\n",
    "        content = company.find(\"span\", class_=\"companyCardWrapper__interLinking\").text.strip()\n",
    "        # Convert the content into a list\n",
    "        content = content.split(sep=\" | \")\n",
    "\n",
    "        # Extracting the industry\n",
    "        industry = content[0]\n",
    "        industries.append(industry)\n",
    "\n",
    "        # Extracting the employees\n",
    "        employee = \"\"\n",
    "        ctype = \"\"\n",
    "        old = \"\"\n",
    "        headquarter = \"\"\n",
    "\n",
    "        for j in content[1:]:\n",
    "            if \"Employees\" in j:\n",
    "                employee = j\n",
    "            elif \"old\" in j:\n",
    "                old = j\n",
    "            elif \"more\" in j:\n",
    "                headquarter = j.split(sep=\" \")[0:-2]\n",
    "                headquarter = \" \".join(headquarter)\n",
    "            else:\n",
    "                ctype = j\n",
    "\n",
    "        if len(employee) > 0:\n",
    "            employees.append(employee[0:-10])\n",
    "        else:\n",
    "            employees.append(\"NaN\")\n",
    "\n",
    "        if len(old) > 0:\n",
    "            age.append(old[0:-4])\n",
    "        else:\n",
    "            age.append(\"NaN\")\n",
    "\n",
    "        if len(headquarter) > 0:\n",
    "            hq.append(headquarter)\n",
    "        else:\n",
    "            hq.append(\"NaN\")\n",
    "\n",
    "        if len(ctype) > 0:\n",
    "            ctypes.append(ctype)\n",
    "        else:\n",
    "            ctypes.append(\"NaN\")\n",
    "    \n",
    "    # Create a dataframe\n",
    "    columns = {\"name\": companyNames, \"rating\": ratings, \"industry\": industries,\n",
    "               \"employee\": employees, \"type\": ctypes, \"age\": age, \"headquarter\": hq}\n",
    "    df = pd.DataFrame(columns)\n",
    "    \n",
    "    return df"
   ]
  },
  {
   "cell_type": "code",
   "execution_count": 31,
   "id": "3d684e14-a638-4a9f-9adb-63f62d4af308",
   "metadata": {
    "tags": []
   },
   "outputs": [
    {
     "data": {
      "text/html": [
       "<div>\n",
       "<style scoped>\n",
       "    .dataframe tbody tr th:only-of-type {\n",
       "        vertical-align: middle;\n",
       "    }\n",
       "\n",
       "    .dataframe tbody tr th {\n",
       "        vertical-align: top;\n",
       "    }\n",
       "\n",
       "    .dataframe thead th {\n",
       "        text-align: right;\n",
       "    }\n",
       "</style>\n",
       "<table border=\"1\" class=\"dataframe\">\n",
       "  <thead>\n",
       "    <tr style=\"text-align: right;\">\n",
       "      <th></th>\n",
       "      <th>name</th>\n",
       "      <th>rating</th>\n",
       "      <th>industry</th>\n",
       "      <th>employee</th>\n",
       "      <th>type</th>\n",
       "      <th>age</th>\n",
       "      <th>headquarter</th>\n",
       "    </tr>\n",
       "  </thead>\n",
       "  <tbody>\n",
       "    <tr>\n",
       "      <th>0</th>\n",
       "      <td>John Deere</td>\n",
       "      <td>4.3</td>\n",
       "      <td>IT Services &amp; Consulting</td>\n",
       "      <td>5k-10k</td>\n",
       "      <td>Fortune India 500</td>\n",
       "      <td>22 years</td>\n",
       "      <td>Moline</td>\n",
       "    </tr>\n",
       "    <tr>\n",
       "      <th>1</th>\n",
       "      <td>L&amp;T Finance</td>\n",
       "      <td>3.9</td>\n",
       "      <td>NBFC</td>\n",
       "      <td>10k-50k</td>\n",
       "      <td>Public</td>\n",
       "      <td>29 years</td>\n",
       "      <td>Mumbai</td>\n",
       "    </tr>\n",
       "    <tr>\n",
       "      <th>2</th>\n",
       "      <td>Whitehat jr</td>\n",
       "      <td>3.6</td>\n",
       "      <td>EdTech</td>\n",
       "      <td>5k-10k</td>\n",
       "      <td>Startup</td>\n",
       "      <td>5 years</td>\n",
       "      <td>Mumbai</td>\n",
       "    </tr>\n",
       "    <tr>\n",
       "      <th>3</th>\n",
       "      <td>Intas Pharmaceuticals</td>\n",
       "      <td>4.2</td>\n",
       "      <td>Pharma</td>\n",
       "      <td>10k-50k</td>\n",
       "      <td>Fortune India 500</td>\n",
       "      <td>23 years</td>\n",
       "      <td>Ahmedabad</td>\n",
       "    </tr>\n",
       "    <tr>\n",
       "      <th>4</th>\n",
       "      <td>Varun Beverages</td>\n",
       "      <td>4.0</td>\n",
       "      <td>Beverage</td>\n",
       "      <td>10k-50k</td>\n",
       "      <td>Public</td>\n",
       "      <td>28 years</td>\n",
       "      <td>Gurgaon/Gurugram</td>\n",
       "    </tr>\n",
       "    <tr>\n",
       "      <th>5</th>\n",
       "      <td>Thermax Limited</td>\n",
       "      <td>4.2</td>\n",
       "      <td>Industrial Machinery</td>\n",
       "      <td>5k-10k</td>\n",
       "      <td>Public</td>\n",
       "      <td>43 years</td>\n",
       "      <td>Pune</td>\n",
       "    </tr>\n",
       "    <tr>\n",
       "      <th>6</th>\n",
       "      <td>Ford Motor</td>\n",
       "      <td>4.5</td>\n",
       "      <td>Automobile</td>\n",
       "      <td>5k-10k</td>\n",
       "      <td>Public</td>\n",
       "      <td>120 years</td>\n",
       "      <td>Dearborn</td>\n",
       "    </tr>\n",
       "    <tr>\n",
       "      <th>7</th>\n",
       "      <td>UnitedHealth</td>\n",
       "      <td>4.2</td>\n",
       "      <td>Healthcare</td>\n",
       "      <td>10k-50k</td>\n",
       "      <td>Forbes Global 2000</td>\n",
       "      <td>46 years</td>\n",
       "      <td>Minnetonka</td>\n",
       "    </tr>\n",
       "    <tr>\n",
       "      <th>8</th>\n",
       "      <td>Sodexo</td>\n",
       "      <td>4.1</td>\n",
       "      <td>Facility Management Services</td>\n",
       "      <td>10k-50k</td>\n",
       "      <td>Forbes Global 2000</td>\n",
       "      <td>15 years</td>\n",
       "      <td>Issy les Moulineaux</td>\n",
       "    </tr>\n",
       "    <tr>\n",
       "      <th>9</th>\n",
       "      <td>Hetero Drugs</td>\n",
       "      <td>3.8</td>\n",
       "      <td>Pharma</td>\n",
       "      <td>1k-5k</td>\n",
       "      <td>NaN</td>\n",
       "      <td>30 years</td>\n",
       "      <td>Hyderabad/Secunderabad</td>\n",
       "    </tr>\n",
       "    <tr>\n",
       "      <th>10</th>\n",
       "      <td>Deutsche Bank</td>\n",
       "      <td>4.1</td>\n",
       "      <td>Banking</td>\n",
       "      <td>10k-50k</td>\n",
       "      <td>Fortune India 500</td>\n",
       "      <td>153 years</td>\n",
       "      <td>Frankfurt</td>\n",
       "    </tr>\n",
       "    <tr>\n",
       "      <th>11</th>\n",
       "      <td>Macleods Pharmaceuticals</td>\n",
       "      <td>3.8</td>\n",
       "      <td>Pharma</td>\n",
       "      <td>5k-10k</td>\n",
       "      <td>Public</td>\n",
       "      <td>37 years</td>\n",
       "      <td>Mumbai</td>\n",
       "    </tr>\n",
       "    <tr>\n",
       "      <th>12</th>\n",
       "      <td>Subros</td>\n",
       "      <td>4.0</td>\n",
       "      <td>Auto Components</td>\n",
       "      <td>1k-5k</td>\n",
       "      <td>Public</td>\n",
       "      <td>38 years</td>\n",
       "      <td>Noida</td>\n",
       "    </tr>\n",
       "    <tr>\n",
       "      <th>13</th>\n",
       "      <td>Abbott Healthcare</td>\n",
       "      <td>4.2</td>\n",
       "      <td>Pharma</td>\n",
       "      <td>1k-5k</td>\n",
       "      <td>Public</td>\n",
       "      <td>32 years</td>\n",
       "      <td>Illinois City</td>\n",
       "    </tr>\n",
       "    <tr>\n",
       "      <th>14</th>\n",
       "      <td>Randstad</td>\n",
       "      <td>3.9</td>\n",
       "      <td>1k-5k Employees</td>\n",
       "      <td>NaN</td>\n",
       "      <td>Conglomerate</td>\n",
       "      <td>31 years</td>\n",
       "      <td>Chennai</td>\n",
       "    </tr>\n",
       "    <tr>\n",
       "      <th>15</th>\n",
       "      <td>VE Commercial Vehicles</td>\n",
       "      <td>4.0</td>\n",
       "      <td>Automobile</td>\n",
       "      <td>1k-5k</td>\n",
       "      <td>NaN</td>\n",
       "      <td>15 years</td>\n",
       "      <td>Gurgaon/Gurugram</td>\n",
       "    </tr>\n",
       "    <tr>\n",
       "      <th>16</th>\n",
       "      <td>Automatic Data Processing (ADP)</td>\n",
       "      <td>4.2</td>\n",
       "      <td>IT Services &amp; Consulting</td>\n",
       "      <td>5k-10k</td>\n",
       "      <td>Forbes Global 2000</td>\n",
       "      <td>74 years</td>\n",
       "      <td>New Jersey</td>\n",
       "    </tr>\n",
       "    <tr>\n",
       "      <th>17</th>\n",
       "      <td>American Express</td>\n",
       "      <td>4.3</td>\n",
       "      <td>Financial Services</td>\n",
       "      <td>10k-50k</td>\n",
       "      <td>Forbes Global 2000</td>\n",
       "      <td>173 years</td>\n",
       "      <td>New York City</td>\n",
       "    </tr>\n",
       "    <tr>\n",
       "      <th>18</th>\n",
       "      <td>CARS24</td>\n",
       "      <td>3.6</td>\n",
       "      <td>Internet</td>\n",
       "      <td>5k-10k</td>\n",
       "      <td>Indian Unicorn</td>\n",
       "      <td>8 years</td>\n",
       "      <td>Gurgaon</td>\n",
       "    </tr>\n",
       "    <tr>\n",
       "      <th>19</th>\n",
       "      <td>Havells</td>\n",
       "      <td>4.1</td>\n",
       "      <td>Electrical Equipment</td>\n",
       "      <td>5k-10k</td>\n",
       "      <td>Public</td>\n",
       "      <td>40 years</td>\n",
       "      <td>Noida</td>\n",
       "    </tr>\n",
       "  </tbody>\n",
       "</table>\n",
       "</div>"
      ],
      "text/plain": [
       "                               name rating                      industry  \\\n",
       "0                        John Deere    4.3      IT Services & Consulting   \n",
       "1                       L&T Finance    3.9                          NBFC   \n",
       "2                       Whitehat jr    3.6                        EdTech   \n",
       "3             Intas Pharmaceuticals    4.2                        Pharma   \n",
       "4                   Varun Beverages    4.0                      Beverage   \n",
       "5                   Thermax Limited    4.2          Industrial Machinery   \n",
       "6                        Ford Motor    4.5                    Automobile   \n",
       "7                      UnitedHealth    4.2                    Healthcare   \n",
       "8                            Sodexo    4.1  Facility Management Services   \n",
       "9                      Hetero Drugs    3.8                        Pharma   \n",
       "10                    Deutsche Bank    4.1                       Banking   \n",
       "11         Macleods Pharmaceuticals    3.8                        Pharma   \n",
       "12                           Subros    4.0               Auto Components   \n",
       "13                Abbott Healthcare    4.2                        Pharma   \n",
       "14                         Randstad    3.9               1k-5k Employees   \n",
       "15           VE Commercial Vehicles    4.0                    Automobile   \n",
       "16  Automatic Data Processing (ADP)    4.2      IT Services & Consulting   \n",
       "17                 American Express    4.3            Financial Services   \n",
       "18                           CARS24    3.6                      Internet   \n",
       "19                          Havells    4.1          Electrical Equipment   \n",
       "\n",
       "   employee                type        age             headquarter  \n",
       "0    5k-10k   Fortune India 500   22 years                  Moline  \n",
       "1   10k-50k              Public   29 years                  Mumbai  \n",
       "2    5k-10k             Startup    5 years                  Mumbai  \n",
       "3   10k-50k   Fortune India 500   23 years               Ahmedabad  \n",
       "4   10k-50k              Public   28 years        Gurgaon/Gurugram  \n",
       "5    5k-10k              Public   43 years                    Pune  \n",
       "6    5k-10k              Public  120 years                Dearborn  \n",
       "7   10k-50k  Forbes Global 2000   46 years              Minnetonka  \n",
       "8   10k-50k  Forbes Global 2000   15 years     Issy les Moulineaux  \n",
       "9     1k-5k                 NaN   30 years  Hyderabad/Secunderabad  \n",
       "10  10k-50k   Fortune India 500  153 years               Frankfurt  \n",
       "11   5k-10k              Public   37 years                  Mumbai  \n",
       "12    1k-5k              Public   38 years                   Noida  \n",
       "13    1k-5k              Public   32 years           Illinois City  \n",
       "14      NaN        Conglomerate   31 years                 Chennai  \n",
       "15    1k-5k                 NaN   15 years        Gurgaon/Gurugram  \n",
       "16   5k-10k  Forbes Global 2000   74 years              New Jersey  \n",
       "17  10k-50k  Forbes Global 2000  173 years           New York City  \n",
       "18   5k-10k      Indian Unicorn    8 years                 Gurgaon  \n",
       "19   5k-10k              Public   40 years                   Noida  "
      ]
     },
     "execution_count": 31,
     "metadata": {},
     "output_type": "execute_result"
    }
   ],
   "source": [
    "# Checking the fetchData function\n",
    "fetchData(soup)"
   ]
  },
  {
   "cell_type": "markdown",
   "id": "e213edf3-c586-409a-9f56-0f4a036986de",
   "metadata": {
    "tags": []
   },
   "source": [
    "## **Fetch the Data for all the Webpages**"
   ]
  },
  {
   "cell_type": "code",
   "execution_count": 35,
   "id": "e955d566-0648-4081-af92-adea1d061ca0",
   "metadata": {
    "tags": []
   },
   "outputs": [],
   "source": [
    "# Store the headers in a variable\n",
    "headers = {\"User-Agent\": \"Mozilla/5.0 (Windows NT 6.3; Win64; x64) AppleWebKit/537.36 (KHTML, like Gecko) Chrome/80.0.3987.162 Safari/537.36\"}\n",
    "\n",
    "# Create a blank dataframe\n",
    "final_df = pd.DataFrame()\n",
    "\n",
    "# Storing data in the final dataframe for 500 pages\n",
    "for i in range(1, 500):\n",
    "    web_url = \"https://www.ambitionbox.com/list-of-companies?page={}\".format(i)\n",
    "    webpage = requests.get(web_url, headers=headers).text\n",
    "    \n",
    "    soup = BeautifulSoup(webpage, \"lxml\")\n",
    "    \n",
    "    df = fetchData(soup)\n",
    "    final_df = pd.concat([final_df, df], ignore_index=True)"
   ]
  },
  {
   "cell_type": "code",
   "execution_count": 37,
   "id": "58c7e40d-60e4-49d9-be1a-436050a59f2c",
   "metadata": {
    "tags": []
   },
   "outputs": [
    {
     "data": {
      "text/html": [
       "<div>\n",
       "<style scoped>\n",
       "    .dataframe tbody tr th:only-of-type {\n",
       "        vertical-align: middle;\n",
       "    }\n",
       "\n",
       "    .dataframe tbody tr th {\n",
       "        vertical-align: top;\n",
       "    }\n",
       "\n",
       "    .dataframe thead th {\n",
       "        text-align: right;\n",
       "    }\n",
       "</style>\n",
       "<table border=\"1\" class=\"dataframe\">\n",
       "  <thead>\n",
       "    <tr style=\"text-align: right;\">\n",
       "      <th></th>\n",
       "      <th>name</th>\n",
       "      <th>rating</th>\n",
       "      <th>industry</th>\n",
       "      <th>employee</th>\n",
       "      <th>type</th>\n",
       "      <th>age</th>\n",
       "      <th>headquarter</th>\n",
       "    </tr>\n",
       "  </thead>\n",
       "  <tbody>\n",
       "    <tr>\n",
       "      <th>0</th>\n",
       "      <td>TCS</td>\n",
       "      <td>3.8</td>\n",
       "      <td>IT Services &amp; Consulting</td>\n",
       "      <td>1 Lakh+</td>\n",
       "      <td>Public</td>\n",
       "      <td>55 years</td>\n",
       "      <td>Mumbai</td>\n",
       "    </tr>\n",
       "    <tr>\n",
       "      <th>1</th>\n",
       "      <td>Accenture</td>\n",
       "      <td>4.1</td>\n",
       "      <td>IT Services &amp; Consulting</td>\n",
       "      <td>1 Lakh+</td>\n",
       "      <td>Public</td>\n",
       "      <td>34 years</td>\n",
       "      <td>Dublin</td>\n",
       "    </tr>\n",
       "    <tr>\n",
       "      <th>2</th>\n",
       "      <td>Cognizant</td>\n",
       "      <td>3.9</td>\n",
       "      <td>IT Services &amp; Consulting</td>\n",
       "      <td>1 Lakh+</td>\n",
       "      <td>Forbes Global 2000</td>\n",
       "      <td>29 years</td>\n",
       "      <td>Teaneck. New Jersey.</td>\n",
       "    </tr>\n",
       "    <tr>\n",
       "      <th>3</th>\n",
       "      <td>Wipro</td>\n",
       "      <td>3.8</td>\n",
       "      <td>IT Services &amp; Consulting</td>\n",
       "      <td>1 Lakh+</td>\n",
       "      <td>Public</td>\n",
       "      <td>78 years</td>\n",
       "      <td>Bangalore/Bengaluru</td>\n",
       "    </tr>\n",
       "    <tr>\n",
       "      <th>4</th>\n",
       "      <td>ICICI Bank</td>\n",
       "      <td>4.0</td>\n",
       "      <td>Banking</td>\n",
       "      <td>1 Lakh+</td>\n",
       "      <td>Public</td>\n",
       "      <td>29 years</td>\n",
       "      <td>Mumbai</td>\n",
       "    </tr>\n",
       "    <tr>\n",
       "      <th>...</th>\n",
       "      <td>...</td>\n",
       "      <td>...</td>\n",
       "      <td>...</td>\n",
       "      <td>...</td>\n",
       "      <td>...</td>\n",
       "      <td>...</td>\n",
       "      <td>...</td>\n",
       "    </tr>\n",
       "    <tr>\n",
       "      <th>9975</th>\n",
       "      <td>Kestone Integrated Marketing Services</td>\n",
       "      <td>3.4</td>\n",
       "      <td>Marketing &amp; Advertising</td>\n",
       "      <td>51-200</td>\n",
       "      <td>NaN</td>\n",
       "      <td>26 years</td>\n",
       "      <td>New Delhi</td>\n",
       "    </tr>\n",
       "    <tr>\n",
       "      <th>9976</th>\n",
       "      <td>SSPL</td>\n",
       "      <td>3.7</td>\n",
       "      <td>Industrial Automation</td>\n",
       "      <td>11-50 Employee</td>\n",
       "      <td>NaN</td>\n",
       "      <td>20 years</td>\n",
       "      <td>Hyderabad</td>\n",
       "    </tr>\n",
       "    <tr>\n",
       "      <th>9977</th>\n",
       "      <td>Magnum</td>\n",
       "      <td>3.5</td>\n",
       "      <td>Food Processing</td>\n",
       "      <td>1k-5k Employee</td>\n",
       "      <td>Public</td>\n",
       "      <td>30 years</td>\n",
       "      <td>Bhopal</td>\n",
       "    </tr>\n",
       "    <tr>\n",
       "      <th>9978</th>\n",
       "      <td>Crimsoune Club</td>\n",
       "      <td>4.4</td>\n",
       "      <td>1k-5k Employees</td>\n",
       "      <td>NaN</td>\n",
       "      <td>NaN</td>\n",
       "      <td>18 years</td>\n",
       "      <td>Sonipat</td>\n",
       "    </tr>\n",
       "    <tr>\n",
       "      <th>9979</th>\n",
       "      <td>Arjohuntleigh Healthcare</td>\n",
       "      <td>3.8</td>\n",
       "      <td>Medical Equipment</td>\n",
       "      <td>51-200</td>\n",
       "      <td>NaN</td>\n",
       "      <td>66 years</td>\n",
       "      <td>Malmö</td>\n",
       "    </tr>\n",
       "  </tbody>\n",
       "</table>\n",
       "<p>9980 rows × 7 columns</p>\n",
       "</div>"
      ],
      "text/plain": [
       "                                       name rating                  industry  \\\n",
       "0                                       TCS    3.8  IT Services & Consulting   \n",
       "1                                 Accenture    4.1  IT Services & Consulting   \n",
       "2                                 Cognizant    3.9  IT Services & Consulting   \n",
       "3                                     Wipro    3.8  IT Services & Consulting   \n",
       "4                                ICICI Bank    4.0                   Banking   \n",
       "...                                     ...    ...                       ...   \n",
       "9975  Kestone Integrated Marketing Services    3.4   Marketing & Advertising   \n",
       "9976                                   SSPL    3.7     Industrial Automation   \n",
       "9977                                 Magnum    3.5           Food Processing   \n",
       "9978                         Crimsoune Club    4.4           1k-5k Employees   \n",
       "9979               Arjohuntleigh Healthcare    3.8         Medical Equipment   \n",
       "\n",
       "            employee                type       age           headquarter  \n",
       "0            1 Lakh+              Public  55 years                Mumbai  \n",
       "1            1 Lakh+              Public  34 years                Dublin  \n",
       "2            1 Lakh+  Forbes Global 2000  29 years  Teaneck. New Jersey.  \n",
       "3            1 Lakh+              Public  78 years   Bangalore/Bengaluru  \n",
       "4            1 Lakh+              Public  29 years                Mumbai  \n",
       "...              ...                 ...       ...                   ...  \n",
       "9975          51-200                 NaN  26 years             New Delhi  \n",
       "9976  11-50 Employee                 NaN  20 years             Hyderabad  \n",
       "9977  1k-5k Employee              Public  30 years                Bhopal  \n",
       "9978             NaN                 NaN  18 years               Sonipat  \n",
       "9979          51-200                 NaN  66 years                 Malmö  \n",
       "\n",
       "[9980 rows x 7 columns]"
      ]
     },
     "execution_count": 37,
     "metadata": {},
     "output_type": "execute_result"
    }
   ],
   "source": [
    "final_df"
   ]
  },
  {
   "cell_type": "markdown",
   "id": "d73d0708-3be7-4b9b-97a5-08bd8f96ce11",
   "metadata": {},
   "source": [
    "## **Export the Final Dataframe as a CSV**"
   ]
  },
  {
   "cell_type": "code",
   "execution_count": 38,
   "id": "b96d6be2-f133-4e20-ba52-188359f2cbe5",
   "metadata": {
    "tags": []
   },
   "outputs": [],
   "source": [
    "output_path = r\"D:\\\\Coding\\\\Datasets\\\\\"\n",
    "file_name = \"company_web_scrapping_data.csv\"\n",
    "final_df.to_csv(output_path+file_name)"
   ]
  }
 ],
 "metadata": {
  "kernelspec": {
   "display_name": "Python 3 (ipykernel)",
   "language": "python",
   "name": "python3"
  },
  "language_info": {
   "codemirror_mode": {
    "name": "ipython",
    "version": 3
   },
   "file_extension": ".py",
   "mimetype": "text/x-python",
   "name": "python",
   "nbconvert_exporter": "python",
   "pygments_lexer": "ipython3",
   "version": "3.11.4"
  }
 },
 "nbformat": 4,
 "nbformat_minor": 5
}
