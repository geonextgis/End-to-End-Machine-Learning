{
 "cells": [
  {
   "cell_type": "markdown",
   "id": "9aaa40a1-1804-4cde-9605-4cdadc610993",
   "metadata": {},
   "source": [
    "# **Regression Metrics**\n",
    "Regression metrics are used to evaluate the performance of predictive models that aim to estimate a continuous target variable. These metrics help assess how well the model's predictions align with the actual values, allowing you to understand the accuracy, precision, and goodness of fit of your regression model. Here are some commonly used regression metrics:"
   ]
  },
  {
   "cell_type": "markdown",
   "id": "75a46037-64d2-4a00-8644-049f09e20bf4",
   "metadata": {},
   "source": [
    "## **Import Required Libraries**"
   ]
  },
  {
   "cell_type": "code",
   "execution_count": 1,
   "id": "92fa9d73-a883-461a-be23-6ff065abd927",
   "metadata": {
    "tags": []
   },
   "outputs": [],
   "source": [
    "import numpy as np\n",
    "import pandas as pd\n",
    "import matplotlib.pyplot as plt\n",
    "import seaborn as sns\n",
    "import warnings\n",
    "warnings.filterwarnings(\"ignore\")"
   ]
  },
  {
   "cell_type": "markdown",
   "id": "cf258036-b9a6-4949-97e6-2b442098f30c",
   "metadata": {},
   "source": [
    "## **Read the Data**"
   ]
  },
  {
   "cell_type": "code",
   "execution_count": 2,
   "id": "0c90745f-be6c-4520-a1ef-1d1aaab8e30a",
   "metadata": {
    "tags": []
   },
   "outputs": [
    {
     "data": {
      "text/html": [
       "<div>\n",
       "<style scoped>\n",
       "    .dataframe tbody tr th:only-of-type {\n",
       "        vertical-align: middle;\n",
       "    }\n",
       "\n",
       "    .dataframe tbody tr th {\n",
       "        vertical-align: top;\n",
       "    }\n",
       "\n",
       "    .dataframe thead th {\n",
       "        text-align: right;\n",
       "    }\n",
       "</style>\n",
       "<table border=\"1\" class=\"dataframe\">\n",
       "  <thead>\n",
       "    <tr style=\"text-align: right;\">\n",
       "      <th></th>\n",
       "      <th>cgpa</th>\n",
       "      <th>package</th>\n",
       "    </tr>\n",
       "  </thead>\n",
       "  <tbody>\n",
       "    <tr>\n",
       "      <th>0</th>\n",
       "      <td>6.89</td>\n",
       "      <td>3.26</td>\n",
       "    </tr>\n",
       "    <tr>\n",
       "      <th>1</th>\n",
       "      <td>5.12</td>\n",
       "      <td>1.98</td>\n",
       "    </tr>\n",
       "    <tr>\n",
       "      <th>2</th>\n",
       "      <td>7.82</td>\n",
       "      <td>3.25</td>\n",
       "    </tr>\n",
       "    <tr>\n",
       "      <th>3</th>\n",
       "      <td>7.42</td>\n",
       "      <td>3.67</td>\n",
       "    </tr>\n",
       "    <tr>\n",
       "      <th>4</th>\n",
       "      <td>6.94</td>\n",
       "      <td>3.57</td>\n",
       "    </tr>\n",
       "  </tbody>\n",
       "</table>\n",
       "</div>"
      ],
      "text/plain": [
       "   cgpa  package\n",
       "0  6.89     3.26\n",
       "1  5.12     1.98\n",
       "2  7.82     3.25\n",
       "3  7.42     3.67\n",
       "4  6.94     3.57"
      ]
     },
     "execution_count": 2,
     "metadata": {},
     "output_type": "execute_result"
    }
   ],
   "source": [
    "df = pd.read_csv(\"D:\\Coding\\Datasets\\Placement_SLR.csv\")\n",
    "df.head()"
   ]
  },
  {
   "cell_type": "code",
   "execution_count": 3,
   "id": "71b20f08-238d-4103-8a81-0018d371d418",
   "metadata": {
    "tags": []
   },
   "outputs": [
    {
     "data": {
      "text/plain": [
       "cgpa       0\n",
       "package    0\n",
       "dtype: int64"
      ]
     },
     "execution_count": 3,
     "metadata": {},
     "output_type": "execute_result"
    }
   ],
   "source": [
    "# Check for the null values\n",
    "df.isnull().sum()"
   ]
  },
  {
   "cell_type": "markdown",
   "id": "6b51e43c-96ae-4dc0-ba9c-8c098a01c92a",
   "metadata": {},
   "source": [
    "## **Train Test Split**"
   ]
  },
  {
   "cell_type": "code",
   "execution_count": 4,
   "id": "8fbf9865-44d7-41cb-9b9b-ee5d912422a1",
   "metadata": {
    "tags": []
   },
   "outputs": [],
   "source": [
    "from sklearn.model_selection import train_test_split"
   ]
  },
  {
   "cell_type": "code",
   "execution_count": 5,
   "id": "0d8d40ae-1e86-431b-bdf8-e1a047659f11",
   "metadata": {
    "tags": []
   },
   "outputs": [
    {
     "data": {
      "text/plain": [
       "((140, 1), (60, 1))"
      ]
     },
     "execution_count": 5,
     "metadata": {},
     "output_type": "execute_result"
    }
   ],
   "source": [
    "x_train, x_test, y_train, y_test = train_test_split(df.drop(\"package\", axis=1),\n",
    "                                                    df[\"package\"],\n",
    "                                                    test_size=0.3,\n",
    "                                                    random_state=0)\n",
    "x_train.shape , x_test.shape"
   ]
  },
  {
   "cell_type": "markdown",
   "id": "2efd8c32-fe7d-4674-8853-fc0008b6b88b",
   "metadata": {},
   "source": [
    "## **Plot the Data**"
   ]
  },
  {
   "cell_type": "code",
   "execution_count": 6,
   "id": "26fd9ae8-e051-4c95-a84e-fb65e532ce8c",
   "metadata": {
    "tags": []
   },
   "outputs": [
    {
     "data": {
      "image/png": "[encoded data removed]",
      "text/plain": [
       "<Figure size 640x480 with 1 Axes>"
      ]
     },
     "metadata": {},
     "output_type": "display_data"
    }
   ],
   "source": [
    "sns.scatterplot(x=x_train[\"cgpa\"], y=y_train)\n",
    "plt.title(\"Scatterplot between CGPA and Package\")\n",
    "plt.show()"
   ]
  },
  {
   "cell_type": "markdown",
   "id": "a1cadfec-6964-442e-bac9-b098789926f5",
   "metadata": {},
   "source": [
    "## **Train a Simple Linear Regression Model**"
   ]
  },
  {
   "cell_type": "code",
   "execution_count": 7,
   "id": "f60ee012-9d84-4398-bb6f-fdcf73ff643c",
   "metadata": {
    "tags": []
   },
   "outputs": [],
   "source": [
    "from sklearn.linear_model import LinearRegression"
   ]
  },
  {
   "cell_type": "code",
   "execution_count": 8,
   "id": "4df83756-2eb4-489c-b513-755c8228e9e8",
   "metadata": {
    "tags": []
   },
   "outputs": [
    {
     "data": {
      "text/html": [
       "<style>#sk-container-id-1 {color: black;}#sk-container-id-1 pre{padding: 0;}#sk-container-id-1 div.sk-toggleable {background-color: white;}#sk-container-id-1 label.sk-toggleable__label {cursor: pointer;display: block;width: 100%;margin-bottom: 0;padding: 0.3em;box-sizing: border-box;text-align: center;}#sk-container-id-1 label.sk-toggleable__label-arrow:before {content: \"▸\";float: left;margin-right: 0.25em;color: #696969;}#sk-container-id-1 label.sk-toggleable__label-arrow:hover:before {color: black;}#sk-container-id-1 div.sk-estimator:hover label.sk-toggleable__label-arrow:before {color: black;}#sk-container-id-1 div.sk-toggleable__content {max-height: 0;max-width: 0;overflow: hidden;text-align: left;background-color: #f0f8ff;}#sk-container-id-1 div.sk-toggleable__content pre {margin: 0.2em;color: black;border-radius: 0.25em;background-color: #f0f8ff;}#sk-container-id-1 input.sk-toggleable__control:checked~div.sk-toggleable__content {max-height: 200px;max-width: 100%;overflow: auto;}#sk-container-id-1 input.sk-toggleable__control:checked~label.sk-toggleable__label-arrow:before {content: \"▾\";}#sk-container-id-1 div.sk-estimator input.sk-toggleable__control:checked~label.sk-toggleable__label {background-color: #d4ebff;}#sk-container-id-1 div.sk-label input.sk-toggleable__control:checked~label.sk-toggleable__label {background-color: #d4ebff;}#sk-container-id-1 input.sk-hidden--visually {border: 0;clip: rect(1px 1px 1px 1px);clip: rect(1px, 1px, 1px, 1px);height: 1px;margin: -1px;overflow: hidden;padding: 0;position: absolute;width: 1px;}#sk-container-id-1 div.sk-estimator {font-family: monospace;background-color: #f0f8ff;border: 1px dotted black;border-radius: 0.25em;box-sizing: border-box;margin-bottom: 0.5em;}#sk-container-id-1 div.sk-estimator:hover {background-color: #d4ebff;}#sk-container-id-1 div.sk-parallel-item::after {content: \"\";width: 100%;border-bottom: 1px solid gray;flex-grow: 1;}#sk-container-id-1 div.sk-label:hover label.sk-toggleable__label {background-color: #d4ebff;}#sk-container-id-1 div.sk-serial::before {content: \"\";position: absolute;border-left: 1px solid gray;box-sizing: border-box;top: 0;bottom: 0;left: 50%;z-index: 0;}#sk-container-id-1 div.sk-serial {display: flex;flex-direction: column;align-items: center;background-color: white;padding-right: 0.2em;padding-left: 0.2em;position: relative;}#sk-container-id-1 div.sk-item {position: relative;z-index: 1;}#sk-container-id-1 div.sk-parallel {display: flex;align-items: stretch;justify-content: center;background-color: white;position: relative;}#sk-container-id-1 div.sk-item::before, #sk-container-id-1 div.sk-parallel-item::before {content: \"\";position: absolute;border-left: 1px solid gray;box-sizing: border-box;top: 0;bottom: 0;left: 50%;z-index: -1;}#sk-container-id-1 div.sk-parallel-item {display: flex;flex-direction: column;z-index: 1;position: relative;background-color: white;}#sk-container-id-1 div.sk-parallel-item:first-child::after {align-self: flex-end;width: 50%;}#sk-container-id-1 div.sk-parallel-item:last-child::after {align-self: flex-start;width: 50%;}#sk-container-id-1 div.sk-parallel-item:only-child::after {width: 0;}#sk-container-id-1 div.sk-dashed-wrapped {border: 1px dashed gray;margin: 0 0.4em 0.5em 0.4em;box-sizing: border-box;padding-bottom: 0.4em;background-color: white;}#sk-container-id-1 div.sk-label label {font-family: monospace;font-weight: bold;display: inline-block;line-height: 1.2em;}#sk-container-id-1 div.sk-label-container {text-align: center;}#sk-container-id-1 div.sk-container {/* jupyter's `normalize.less` sets `[hidden] { display: none; }` but bootstrap.min.css set `[hidden] { display: none !important; }` so we also need the `!important` here to be able to override the default hidden behavior on the sphinx rendered scikit-learn.org. See: https://github.com/scikit-learn/scikit-learn/issues/21755 */display: inline-block !important;position: relative;}#sk-container-id-1 div.sk-text-repr-fallback {display: none;}</style><div id=\"sk-container-id-1\" class=\"sk-top-container\"><div class=\"sk-text-repr-fallback\"><pre>LinearRegression()</pre><b>In a Jupyter environment, please rerun this cell to show the HTML representation or trust the notebook. <br />On GitHub, the HTML representation is unable to render, please try loading this page with nbviewer.org.</b></div><div class=\"sk-container\" hidden><div class=\"sk-item\"><div class=\"sk-estimator sk-toggleable\"><input class=\"sk-toggleable__control sk-hidden--visually\" id=\"sk-estimator-id-1\" type=\"checkbox\" checked><label for=\"sk-estimator-id-1\" class=\"sk-toggleable__label sk-toggleable__label-arrow\">LinearRegression</label><div class=\"sk-toggleable__content\"><pre>LinearRegression()</pre></div></div></div></div></div>"
      ],
      "text/plain": [
       "LinearRegression()"
      ]
     },
     "execution_count": 8,
     "metadata": {},
     "output_type": "execute_result"
    }
   ],
   "source": [
    "# Instantiate an object of the LinearRegression class\n",
    "lr = LinearRegression()\n",
    "\n",
    "# Fit the training data\n",
    "lr.fit(x_train, y_train)"
   ]
  },
  {
   "cell_type": "code",
   "execution_count": 9,
   "id": "ac6c7219-eddf-474c-9764-c6a2c312a95d",
   "metadata": {
    "tags": []
   },
   "outputs": [
    {
     "data": {
      "text/plain": [
       "array([2.98741886, 2.56299265, 2.62783555, 3.4295295 , 3.07584099,\n",
       "       2.36256917, 3.54742567, 2.47457053, 4.16638056, 3.24089563,\n",
       "       2.12677683, 3.2173164 , 2.54530823, 3.06994618, 3.39416065,\n",
       "       2.8754175 , 2.63962516, 2.83415384, 2.37435878, 2.93436559,\n",
       "       3.18784235, 2.33898993, 3.53563605, 4.03079997, 2.20340934,\n",
       "       1.9027741 , 3.10531503, 2.61604593, 1.91456372, 1.8968793 ,\n",
       "       2.92847078, 3.73016473, 2.61015112, 2.09140798, 2.51583419,\n",
       "       3.67711146, 3.19373716, 2.98741886, 3.87164014, 2.50993938,\n",
       "       3.14068389, 1.90866891, 3.79500763, 2.98741886, 3.99543112,\n",
       "       4.29606635, 2.48636014, 3.00510329, 3.25858005, 1.75540389,\n",
       "       3.29984371, 2.46867572, 3.54153086, 2.42151725, 3.7773232 ,\n",
       "       2.74573172, 3.23500082, 3.09942023, 4.42575213, 2.33898993])"
      ]
     },
     "execution_count": 9,
     "metadata": {},
     "output_type": "execute_result"
    }
   ],
   "source": [
    "# Predict the test data\n",
    "y_pred = lr.predict(x_test)\n",
    "y_pred"
   ]
  },
  {
   "cell_type": "markdown",
   "id": "8d046beb-61a9-4288-a720-85e4a8368a70",
   "metadata": {},
   "source": [
    "## **Plot the Regression Line**"
   ]
  },
  {
   "cell_type": "code",
   "execution_count": 10,
   "id": "866160c1-d413-46b0-a1b7-6f62ae7bd853",
   "metadata": {
    "tags": []
   },
   "outputs": [
    {
     "data": {
      "image/png": "[encoded data removed]",
      "text/plain": [
       "<Figure size 640x480 with 1 Axes>"
      ]
     },
     "metadata": {},
     "output_type": "display_data"
    }
   ],
   "source": [
    "sns.scatterplot(x=x_train[\"cgpa\"], y=y_train)\n",
    "sns.lineplot(x=x_test[\"cgpa\"], y=lr.predict(x_test), c=\"red\", label=\"Regression Line\")\n",
    "plt.title(\"Scatterplot between CGPA and Package\")\n",
    "plt.show()"
   ]
  },
  {
   "cell_type": "markdown",
   "id": "bc21deeb-702b-405a-bfca-b8d739d6fb06",
   "metadata": {},
   "source": [
    "## **Check the Accuracy using Regression Metrics**"
   ]
  },
  {
   "cell_type": "code",
   "execution_count": 11,
   "id": "ca822688-95ae-4eef-b10a-bf605360a8be",
   "metadata": {
    "tags": []
   },
   "outputs": [],
   "source": [
    "from sklearn.metrics import mean_absolute_error, mean_squared_error, r2_score"
   ]
  },
  {
   "cell_type": "markdown",
   "id": "4e3945c7-3068-46cd-be62-7bdc17c80740",
   "metadata": {
    "tags": []
   },
   "source": [
    "### **Mean Absolute Error (MAE):**\n",
    "MAE is the average of the absolute differences between the predicted and actual values. It measures the average magnitude of errors and is easy to understand.\n",
    "\n",
    "**Advantages:**\n",
    "* Easy to interpret as it represents the average absolute error.\n",
    "* Resistant to outliers, as it does not square errors.\n",
    "\n",
    "**Disadvantages:**\n",
    "* Does not penalize larger errors more heavily.\n",
    "* May not work well if the error distribution is not symmetric.\n",
    "\n",
    "**Formula:**<br>\n",
    "<center><img src=\"https://editor.analyticsvidhya.com/uploads/42439Screenshot%202021-10-26%20at%209.34.08%20PM.png\" style=\"width:30%\"></center>"
   ]
  },
  {
   "cell_type": "code",
   "execution_count": 12,
   "id": "08dfb84d-645b-4c15-88a7-2d30096ce3d3",
   "metadata": {
    "tags": []
   },
   "outputs": [
    {
     "name": "stdout",
     "output_type": "stream",
     "text": [
      "Mean Absolute Error (MAE): 0.26\n"
     ]
    }
   ],
   "source": [
    "mae = mean_absolute_error(y_test, y_pred)\n",
    "print(\"Mean Absolute Error (MAE):\", mae.round(2))"
   ]
  },
  {
   "cell_type": "markdown",
   "id": "4b34ebba-d396-4f10-8f50-75492c4b438f",
   "metadata": {},
   "source": [
    "### **Mean Squared Error (MSE):**\n",
    "MSE measures the average of the squared differences between the predicted and actual values. It gives more weight to larger errors and penalizes them.\n",
    "\n",
    "**Advantages:**\n",
    "* Provides a measure of how well the model performs while penalizing larger errors.\n",
    "* Mathematically convenient and commonly used in optimization algorithms.\n",
    "\n",
    "**Disadvantages:**\n",
    "* The squared nature of the metric makes it sensitive to outliers.\n",
    "* The units of MSE are not the same as the target variable, making it less interpretable.\n",
    "\n",
    "**Formula:**<br>\n",
    "<center><img src=\"https://cdn-media-1.freecodecamp.org/images/hmZydSW9YegiMVPWq2JBpOpai3CejzQpGkNG\" style=\"width:30%\"> </center>"
   ]
  },
  {
   "cell_type": "code",
   "execution_count": 13,
   "id": "b7e7a16c-3857-40c5-a624-e53725d30e6b",
   "metadata": {
    "tags": []
   },
   "outputs": [
    {
     "name": "stdout",
     "output_type": "stream",
     "text": [
      "Mean Squared Error (MSE): 0.1\n"
     ]
    }
   ],
   "source": [
    "mse = mean_squared_error(y_test, y_pred)\n",
    "print(\"Mean Squared Error (MSE):\", mse.round(2))"
   ]
  },
  {
   "cell_type": "markdown",
   "id": "d37a581c-b5b4-4e52-bf46-b6fa31da7e20",
   "metadata": {},
   "source": [
    "### **Root Mean Squared Error (RMSE):**\n",
    "RMSE is the square root of the MSE. It provides a more interpretable metric in the same units as the target variable.\n",
    "\n",
    "**Advantages:**\n",
    "* Shares the same unit as the target variable, which makes it more interpretable than MSE.\n",
    "* Balances the sensitivity to outliers found in MSE.\n",
    "\n",
    "**Disadvantages:**\n",
    "* Like MSE, it can still be sensitive to outliers.\n",
    "* Not as intuitive as MAE.\n",
    "\n",
    "**Formula:**<br>\n",
    "<center><img src=\"https://miro.medium.com/v2/resize:fit:966/1*lqDsPkfXPGen32Uem1PTNg.png\" style=\"width:25%\"> </center>"
   ]
  },
  {
   "cell_type": "code",
   "execution_count": 14,
   "id": "000db115-7940-4475-b8dd-274b706a9e23",
   "metadata": {
    "tags": []
   },
   "outputs": [
    {
     "name": "stdout",
     "output_type": "stream",
     "text": [
      "Root Mean Squared Error (RMSE): 0.32\n"
     ]
    }
   ],
   "source": [
    "rmse = np.sqrt(mean_squared_error(y_test, y_pred))\n",
    "print(\"Root Mean Squared Error (RMSE):\", rmse.round(2))"
   ]
  },
  {
   "cell_type": "markdown",
   "id": "8035fa4b-9d22-443b-8bbe-42da5e1884f9",
   "metadata": {},
   "source": [
    "### **R-squared (R²):**\n",
    "R-squared measures the proportion of the variance in the target variable that is explained by the model. It ranges from 0 to 1, with higher values indicating a better fit.\n",
    "\n",
    "**Advantages:**\n",
    "* Provides a measure of goodness of fit, indicating how well the model explains the variance in the data.\n",
    "* Values range from 0 to 1, where higher values suggest a better fit.\n",
    "\n",
    "**Disadvantages:**\n",
    "* It may increase when adding more predictors, even if they are irrelevant (overfitting).\n",
    "* R-squared alone doesn't reveal the direction or magnitude of individual errors.\n",
    "\n",
    "**Formula:**<br>\n",
    "<center><img src=\"https://i0.wp.com/www.fairlynerdy.com/wp-content/uploads/2017/01/r_squared_5.png?resize=625%2C193\" style=\"width:30%\"> </center>\n",
    "\n",
    "<center><img src=\"https://miro.medium.com/v2/resize:fit:828/format:webp/1*EjMnICEPkm0VzoLetqeYbw.jpeg\" style=\"width:60%\"> </center>"
   ]
  },
  {
   "cell_type": "code",
   "execution_count": 15,
   "id": "a1f28b62-2f25-4fdc-9d0d-a6547bd72e4f",
   "metadata": {
    "tags": []
   },
   "outputs": [
    {
     "name": "stdout",
     "output_type": "stream",
     "text": [
      "R2 Score: 0.75\n"
     ]
    }
   ],
   "source": [
    "r2 = r2_score(y_test, y_pred)\n",
    "print(\"R2 Score:\", r2.round(2))"
   ]
  },
  {
   "cell_type": "markdown",
   "id": "5e67c7ac-44b3-4361-92d1-6ecb99381664",
   "metadata": {},
   "source": [
    "### **Adjusted R-squared:**\n",
    "Adjusted R-squared is a modified version of R-squared that accounts for the number of predictors in the model. It penalizes the addition of irrelevant predictors.\n",
    "\n",
    "**Advantages:**\n",
    "* Adjusts R-squared to account for the number of predictors, helping to mitigate overfitting.\n",
    "* Offers a more realistic assessment of model fit in multiple regression.\n",
    "\n",
    "**Disadvantages:**\n",
    "* It can still be influenced by outliers and unrepresentative samples.\n",
    "\n",
    "**Formula:**<br>\n",
    "<center><img src=\"https://i.stack.imgur.com/RcGf6.png\" style=\"width:50%\"> </center>"
   ]
  },
  {
   "cell_type": "code",
   "execution_count": 16,
   "id": "8e5d2a56-bcc8-4603-948c-f0958f2c56c0",
   "metadata": {
    "tags": []
   },
   "outputs": [],
   "source": [
    "n = len(x_test) # Total Sample Size\n",
    "p = len(x_test.columns) # Number of independent variable"
   ]
  },
  {
   "cell_type": "code",
   "execution_count": 17,
   "id": "5410b9bc-be16-4b66-8faa-812635d462ef",
   "metadata": {
    "tags": []
   },
   "outputs": [
    {
     "name": "stdout",
     "output_type": "stream",
     "text": [
      "Adjusted R2 Score: 0.75\n"
     ]
    }
   ],
   "source": [
    "adusted_r2 = 1 - ((1 - r2)*(n - 1) / (n - p - 1))\n",
    "print(\"Adjusted R2 Score:\", adusted_r2.round(2))"
   ]
  }
 ],
 "metadata": {
  "kernelspec": {
   "display_name": "Python 3 (ipykernel)",
   "language": "python",
   "name": "python3"
  },
  "language_info": {
   "codemirror_mode": {
    "name": "ipython",
    "version": 3
   },
   "file_extension": ".py",
   "mimetype": "text/x-python",
   "name": "python",
   "nbconvert_exporter": "python",
   "pygments_lexer": "ipython3",
   "version": "3.11.4"
  }
 },
 "nbformat": 4,
 "nbformat_minor": 5
}
